{
 "cells": [
  {
   "cell_type": "code",
   "execution_count": null,
   "metadata": {},
   "outputs": [],
   "source": [
    "import os\n",
    "import pandas as pd\n",
    "import re\n",
    "\n",
    "\n",
    "path = './secret_news_crawling/'\n",
    "dir_path = './secret_news_cleanse'\n",
    "os.makedirs(dir_path, exist_ok=True)\n",
    "\n",
    "def cleanse_news(path,dir_path):\n",
    "\n",
    "    for filename in os.listdir(path):\n",
    "        if filename.endswith('.csv'):\n",
    "            df = pd.read_csv(os.path.join(path, filename))\n",
    "            df['내용'] = df['내용'].apply(lambda x: str(x).replace(\"\\n\", ''))\n",
    "            df['내용'] = df['내용'].apply(lambda x: re.sub(\"\\[.*?\\]\", '', x))\n",
    "            df['내용'] = df['내용'].apply(lambda x: re.sub(r' 관련뉴스.*', '', x))\n",
    "            df['내용'] = df['내용'].apply(lambda x: re.sub(r'▶.*', '', x))        \n",
    "            df['내용'] = df['내용'].str.replace('\\w+\\@\\w+\\.[a-z]{2,}(\\.[a-z]+)?', '', regex=True)\n",
    "            df['내용'] = df['내용'].apply(lambda x: re.sub(r'[가-힣]{3}\\s?기자[^.,]*[.,]?', '', x))\n",
    "\n",
    "            save_path = os.path.join(dir_path, filename)\n",
    "        \n",
    "            df.to_csv(save_path, encoding='utf-8', index=False)\n",
    "\n"
   ]
  },
  {
   "cell_type": "code",
   "execution_count": null,
   "metadata": {},
   "outputs": [],
   "source": [
    "path = './secret_news_crawling/'\n",
    "dir_path = './secret_news_cleanse'\n",
    "os.makedirs(dir_path, exist_ok=True)\n",
    "\n",
    "cleanse_news(path, dir_path)"
   ]
  }
 ],
 "metadata": {
  "language_info": {
   "name": "python"
  },
  "orig_nbformat": 4
 },
 "nbformat": 4,
 "nbformat_minor": 2
}
