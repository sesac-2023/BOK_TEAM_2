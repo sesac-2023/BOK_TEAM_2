{
 "cells": [
  {
   "cell_type": "code",
   "execution_count": 59,
   "metadata": {},
   "outputs": [
    {
     "name": "stdout",
     "output_type": "stream",
     "text": [
      "1\n",
      "2\n",
      "3\n",
      "4\n",
      "5\n",
      "6\n",
      "7\n",
      "8\n",
      "9\n",
      "10\n",
      "11\n",
      "12\n",
      "13\n",
      "14\n",
      "15\n",
      "16\n",
      "17\n",
      "18\n",
      "19\n",
      "20\n",
      "21\n",
      "22\n",
      "23\n",
      "24\n",
      "25\n",
      "26\n",
      "27\n",
      "28\n",
      "29\n",
      "30\n",
      "31\n",
      "32\n",
      "33\n",
      "34\n",
      "35\n",
      "36\n",
      "37\n",
      "38\n",
      "39\n",
      "40\n",
      "41\n",
      "42\n",
      "43\n",
      "44\n"
     ]
    }
   ],
   "source": [
    "# 의사록(MPB)\n",
    "\n",
    "import requests\n",
    "from bs4 import BeautifulSoup\n",
    "\n",
    "for i in range(1, 45):\n",
    "    b_url = \"https://www.bok.or.kr/portal/bbs/B0000245/list.do?menuNo=200761\"\n",
    "    params = {\n",
    "        'pageIndex' : i\n",
    "    }\n",
    "\n",
    "    response = requests.get(b_url, params=params)\n",
    "    soup = BeautifulSoup(response.text)\n",
    "\n",
    "    li_list = []\n",
    "    li = soup.find('div', class_='bdLine type2').find('ul').find('li')\n",
    "    li_li = li.find_next_siblings('li', li)\n",
    "    li_list.append(li)\n",
    "    li_list.extend(li_li)\n",
    "\n",
    "    print(i)\n",
    "\n",
    "    for x in range(0, len(li_list)):\n",
    "        try:\n",
    "            link = li_list[x].find('div', class_='fileGoupBox').find('ul').find('li').find('a').attrs['href']\n",
    "            title = li_list[x].find('div', class_='row').find('span').find('a').find('span').find('span').text\n",
    "            url2 = 'http://www.bok.or.kr' + link\n",
    "            file_res = requests.get(url2)\n",
    "\n",
    "            with open('{}.hwp'.format(title), 'wb') as f:\n",
    "                f.write(file_res.text)\n",
    "        except:\n",
    "            link2 = li_list[x].find('div').find('div').find('a').attrs['href']\n",
    "            title = li_list[x].find('div', class_='row').find('span').find('a').find('span').find('span').text\n",
    "            url3 = 'http://www.bok.or.kr' + link2\n",
    "            file_res2 = requests.get(url3)\n",
    "\n",
    "            with open('{}.hwp'.format(title), 'wb') as f:\n",
    "                f.write(file_res.text)\n",
    "            \n",
    "\n"
   ]
  },
  {
   "cell_type": "code",
   "execution_count": null,
   "metadata": {},
   "outputs": [],
   "source": [
    "# 의사록(MPB) _종혁님_\n",
    "\n",
    "# MPB minutes pdf download code\n",
    "import requests, urllib, os\n",
    "from bs4 import BeautifulSoup\n",
    "from tqdm.notebook import tqdm\n",
    "\n",
    "\n",
    "# 각자 파일 경로\n",
    "my_local_pdf_dir_path = 'secret_MPB_minutes'\n",
    "# 디렉토리 생성\n",
    "os.makedirs(f'./{my_local_pdf_dir_path}', exist_ok=True)\n",
    "# b_url: base url, {page}: page number\n",
    "b_url = \"http://www.bok.or.kr/portal/bbs/B0000245/list.do?menuNo=200761&pageIndex={page}\"\n",
    "\n",
    "for i in tqdm(range(1, 40)):\n",
    "    response = requests.get(b_url.format(i))\n",
    "    soup = BeautifulSoup(response.text)\n",
    "\n",
    "    # file_name_list: 고유한 파일명을 위한 파일명 리스트 추출\n",
    "    file_name_list = soup.find_all('span', class_='col m10 s10 x9 ctBx')\n",
    "    # tmp: 크롤링할 파일 url 목록 추출\n",
    "    tmp = soup.find_all('div', class_='fileGoupBox')\n",
    "    \n",
    "    # 2개의 리스트를 이용하기에 range 사용\n",
    "    for j in range(len(tmp)):\n",
    "        # 현재 file의 파일명 할당\n",
    "        file_name = file_name_list[j].find('span', class_='titlesub').getText().strip()\n",
    "        # 현재 file 위해 사용할 태그\n",
    "        for_download = tmp[j]\n",
    "        # naem_: 파일 확장자 확인 위한 변수\n",
    "        name_ = for_download.find('li').find('a').getText().strip()\n",
    "        if name_[-4:]=='.hwp':\n",
    "            url = ('http://www.bok.or.kr/'+for_download.find_all('li')[1].find('a')['href']) # hwp는 안되므로 그 다음 pdf를 다운로드\n",
    "            with urllib.request.urlopen(url) as web_file, open(f'./{my_local_pdf_dir_path}/{file_name}.pdf', 'wb') as local_file:\n",
    "                local_file.write(web_file.read())\n",
    "        else:\n",
    "            url = ('http://www.bok.or.kr/'+for_download.find('li').find('a')['href']) # pdf를 지정하고 있으므로 그대로 다운로드.\n",
    "            with urllib.request.urlopen(url) as web_file, open(f'./{my_local_pdf_dir_path}/{file_name}.pdf', 'wb') as local_file:\n",
    "                local_file.write(web_file.read())\n"
   ]
  },
  {
   "cell_type": "code",
   "execution_count": 57,
   "metadata": {},
   "outputs": [
    {
     "name": "stdout",
     "output_type": "stream",
     "text": [
      "통과\n",
      "통과\n"
     ]
    }
   ],
   "source": [
    "# 채권 분석 리포트 https://finance.naver.com/research/debenture_list.naver\n",
    "import time\n",
    "from datetime import datetime\n",
    "import requests\n",
    "from bs4 import BeautifulSoup\n",
    "\n",
    "for i in range (1, 198):\n",
    "    bond_url = \"https://finance.naver.com/research/debenture_list.naver\"\n",
    "    params = {\n",
    "        'page' : i\n",
    "    }\n",
    "    headers = {'authority' : 'finance.naver.com',\n",
    "            'User-Agent': 'Mozilla/5.0 (Windows NT 10.0; Win64; x64) AppleWebKit/537.36 (KHTML, like Gecko) Chrome/114.0.0.0 Safari/537.36' }\n",
    "   \n",
    "\n",
    "    response = requests.get(bond_url, params=params, headers=headers)\n",
    "    soup = BeautifulSoup(response.text)\n",
    "    bond = soup.select('#contentarea_left .file')\n",
    "    bond_list = []\n",
    "    for x in range(len(bond)):\n",
    "        if bond[x].find_previous_sibling('td').text == '유안타증권':\n",
    "            try:    \n",
    "                bond_list.append([soup.select(\"#contentarea_left .file a[href$='.pdf']\")[x].attrs['href'], bond[x].find_previous_sibling('td').find_previous_sibling('td').text])\n",
    "            except:\n",
    "                print(\"통과\")\n",
    "\n",
    "    for y in bond_list:\n",
    "        file_res = requests.get(y[0])\n",
    "        title = y[-1]\n",
    "        try:\n",
    "            with open('{}.pdf'.format(title), 'wb') as f:\n",
    "                f.write(file_res.text)\n",
    "        except:\n",
    "            print('통과')\n",
    "\n",
    "\n",
    "    \n",
    "            "
   ]
  },
  {
   "cell_type": "markdown",
   "metadata": {},
   "source": [
    "1. 월별 기사수 '금리'라는 단어 포함\n",
    "2. 각 신문사별 기사수\n",
    "3. 채권분석데이터수"
   ]
  },
  {
   "cell_type": "code",
   "execution_count": 1,
   "metadata": {},
   "outputs": [
    {
     "name": "stderr",
     "output_type": "stream",
     "text": [
      "  0%|          | 0/70 [00:00<?, ?it/s]"
     ]
    },
    {
     "name": "stdout",
     "output_type": "stream",
     "text": [
      "39\n"
     ]
    },
    {
     "name": "stderr",
     "output_type": "stream",
     "text": []
    },
    {
     "name": "stdout",
     "output_type": "stream",
     "text": [
      "https://finance.naver.com/news/news_read.naver?article_id=0004177420&office_id=008&mode=search&query=금리&page=12\n"
     ]
    },
    {
     "name": "stderr",
     "output_type": "stream",
     "text": [
      "100%|██████████| 39/39 [07:43<00:00, 11.88s/it]\n",
      "  1%|▏         | 1/70 [07:43<8:53:32, 463.95s/it]"
     ]
    },
    {
     "name": "stdout",
     "output_type": "stream",
     "text": [
      "58\n"
     ]
    },
    {
     "name": "stderr",
     "output_type": "stream",
     "text": []
    },
    {
     "name": "stdout",
     "output_type": "stream",
     "text": [
      "https://finance.naver.com/news/news_read.naver?article_id=0000367400&office_id=469&mode=search&query=금리&page=45\n"
     ]
    },
    {
     "name": "stderr",
     "output_type": "stream",
     "text": [
      "100%|██████████| 58/58 [10:44<00:00, 11.10s/it]\n",
      "  3%|▎         | 2/70 [18:28<10:46:13, 570.20s/it]"
     ]
    },
    {
     "name": "stdout",
     "output_type": "stream",
     "text": [
      "47\n"
     ]
    },
    {
     "name": "stderr",
     "output_type": "stream",
     "text": [
      "100%|██████████| 47/47 [08:43<00:00, 11.13s/it]\n",
      "  4%|▍         | 3/70 [27:12<10:12:59, 548.95s/it]"
     ]
    },
    {
     "name": "stdout",
     "output_type": "stream",
     "text": [
      "42\n"
     ]
    },
    {
     "name": "stderr",
     "output_type": "stream",
     "text": []
    },
    {
     "name": "stdout",
     "output_type": "stream",
     "text": [
      "https://finance.naver.com/news/news_read.naver?article_id=0003519188&office_id=011&mode=search&query=금리&page=27\n"
     ]
    },
    {
     "name": "stderr",
     "output_type": "stream",
     "text": [
      "100%|██████████| 42/42 [07:45<00:00, 11.08s/it]\n",
      "  6%|▌         | 4/70 [34:58<9:28:06, 516.45s/it] "
     ]
    },
    {
     "name": "stdout",
     "output_type": "stream",
     "text": [
      "55\n"
     ]
    },
    {
     "name": "stderr",
     "output_type": "stream",
     "text": []
    },
    {
     "name": "stdout",
     "output_type": "stream",
     "text": [
      "https://finance.naver.com/news/news_read.naver?article_id=0003894169&office_id=421&mode=search&query=금리&page=13\n"
     ]
    },
    {
     "name": "stderr",
     "output_type": "stream",
     "text": [
      "100%|██████████| 55/55 [09:44<00:00, 10.62s/it]\n",
      "  7%|▋         | 5/70 [44:43<9:46:04, 541.00s/it]"
     ]
    },
    {
     "name": "stdout",
     "output_type": "stream",
     "text": [
      "67\n"
     ]
    },
    {
     "name": "stderr",
     "output_type": "stream",
     "text": []
    },
    {
     "name": "stdout",
     "output_type": "stream",
     "text": [
      "https://finance.naver.com/news/news_read.naver?article_id=0000754026&office_id=215&mode=search&query=금리&page=8\n"
     ]
    },
    {
     "name": "stderr",
     "output_type": "stream",
     "text": [
      "100%|██████████| 67/67 [12:43<00:00, 11.39s/it]\n",
      "  9%|▊         | 6/70 [57:27<10:57:51, 616.75s/it]"
     ]
    },
    {
     "name": "stdout",
     "output_type": "stream",
     "text": [
      "53\n"
     ]
    },
    {
     "name": "stderr",
     "output_type": "stream",
     "text": []
    },
    {
     "name": "stdout",
     "output_type": "stream",
     "text": [
      "https://finance.naver.com/news/news_read.naver?article_id=0004118182&office_id=015&mode=search&query=금리&page=27\n"
     ]
    },
    {
     "name": "stderr",
     "output_type": "stream",
     "text": []
    },
    {
     "name": "stdout",
     "output_type": "stream",
     "text": [
      "https://finance.naver.com/news/news_read.naver?article_id=0002320259&office_id=119&mode=search&query=금리&page=42\n"
     ]
    },
    {
     "name": "stderr",
     "output_type": "stream",
     "text": [
      "100%|██████████| 53/53 [09:55<00:00, 11.24s/it]\n",
      " 10%|█         | 7/70 [1:07:23<10:40:32, 610.03s/it]"
     ]
    },
    {
     "name": "stdout",
     "output_type": "stream",
     "text": [
      "41\n"
     ]
    },
    {
     "name": "stderr",
     "output_type": "stream",
     "text": [
      "100%|██████████| 41/41 [07:31<00:00, 11.00s/it]\n",
      " 11%|█▏        | 8/70 [1:14:55<9:38:17, 559.64s/it] "
     ]
    },
    {
     "name": "stdout",
     "output_type": "stream",
     "text": [
      "52\n"
     ]
    },
    {
     "name": "stderr",
     "output_type": "stream",
     "text": []
    },
    {
     "name": "stdout",
     "output_type": "stream",
     "text": [
      "https://finance.naver.com/news/news_read.naver?article_id=0004338737&office_id=009&mode=search&query=금리&page=48\n"
     ]
    },
    {
     "name": "stderr",
     "output_type": "stream",
     "text": [
      "100%|██████████| 52/52 [09:12<00:00, 10.62s/it]\n",
      " 13%|█▎        | 9/70 [1:24:08<9:26:53, 557.61s/it]"
     ]
    },
    {
     "name": "stdout",
     "output_type": "stream",
     "text": [
      "34\n"
     ]
    },
    {
     "name": "stderr",
     "output_type": "stream",
     "text": []
    },
    {
     "name": "stdout",
     "output_type": "stream",
     "text": [
      "https://finance.naver.com/news/news_read.naver?article_id=0004130713&office_id=015&mode=search&query=금리&page=17\n"
     ]
    },
    {
     "name": "stderr",
     "output_type": "stream",
     "text": []
    },
    {
     "name": "stdout",
     "output_type": "stream",
     "text": [
      "https://finance.naver.com/news/news_read.naver?article_id=0004216430&office_id=014&mode=search&query=금리&page=22\n"
     ]
    },
    {
     "name": "stderr",
     "output_type": "stream",
     "text": [
      "100%|██████████| 34/34 [06:16<00:00, 11.06s/it]\n",
      " 14%|█▍        | 10/70 [1:30:24<8:21:43, 501.72s/it]"
     ]
    },
    {
     "name": "stdout",
     "output_type": "stream",
     "text": [
      "https://finance.naver.com/news/news_read.naver?article_id=0004358857&office_id=018&mode=search&query=금리&page=34\n",
      "48\n"
     ]
    },
    {
     "name": "stderr",
     "output_type": "stream",
     "text": []
    },
    {
     "name": "stdout",
     "output_type": "stream",
     "text": [
      "https://finance.naver.com/news/news_read.naver?article_id=0004347575&office_id=009&mode=search&query=금리&page=36\n"
     ]
    },
    {
     "name": "stderr",
     "output_type": "stream",
     "text": [
      "100%|██████████| 48/48 [10:05<00:00, 12.61s/it]\n",
      " 16%|█▌        | 11/70 [1:40:30<8:44:42, 533.60s/it]"
     ]
    },
    {
     "name": "stdout",
     "output_type": "stream",
     "text": [
      "35\n"
     ]
    },
    {
     "name": "stderr",
     "output_type": "stream",
     "text": [
      "100%|██████████| 35/35 [07:18<00:00, 12.53s/it]\n",
      " 17%|█▋        | 12/70 [1:47:49<8:08:05, 504.92s/it]"
     ]
    },
    {
     "name": "stdout",
     "output_type": "stream",
     "text": [
      "40\n"
     ]
    },
    {
     "name": "stderr",
     "output_type": "stream",
     "text": [
      "100%|██████████| 40/40 [07:33<00:00, 11.34s/it]\n",
      " 19%|█▊        | 13/70 [1:55:24<7:45:01, 489.50s/it]"
     ]
    },
    {
     "name": "stdout",
     "output_type": "stream",
     "text": [
      "41\n"
     ]
    },
    {
     "name": "stderr",
     "output_type": "stream",
     "text": []
    },
    {
     "name": "stdout",
     "output_type": "stream",
     "text": [
      "https://finance.naver.com/news/news_read.naver?article_id=0003559122&office_id=011&mode=search&query=금리&page=6\n"
     ]
    },
    {
     "name": "stderr",
     "output_type": "stream",
     "text": []
    },
    {
     "name": "stdout",
     "output_type": "stream",
     "text": [
      "https://finance.naver.com/news/news_read.naver?article_id=0003364106&office_id=022&mode=search&query=금리&page=36\n"
     ]
    },
    {
     "name": "stderr",
     "output_type": "stream",
     "text": [
      "100%|██████████| 41/41 [07:50<00:00, 11.48s/it]\n",
      " 20%|██        | 14/70 [2:03:15<7:31:46, 484.04s/it]"
     ]
    },
    {
     "name": "stdout",
     "output_type": "stream",
     "text": [
      "53\n"
     ]
    },
    {
     "name": "stderr",
     "output_type": "stream",
     "text": []
    },
    {
     "name": "stdout",
     "output_type": "stream",
     "text": [
      "https://finance.naver.com/news/news_read.naver?article_id=0000594842&office_id=088&mode=search&query=금리&page=52\n"
     ]
    },
    {
     "name": "stderr",
     "output_type": "stream",
     "text": [
      "100%|██████████| 53/53 [09:19<00:00, 10.55s/it]\n",
      " 21%|██▏       | 15/70 [2:12:35<7:44:37, 506.87s/it]"
     ]
    },
    {
     "name": "stdout",
     "output_type": "stream",
     "text": [
      "46\n"
     ]
    },
    {
     "name": "stderr",
     "output_type": "stream",
     "text": []
    },
    {
     "name": "stdout",
     "output_type": "stream",
     "text": [
      "https://finance.naver.com/news/news_read.naver?article_id=0004394341&office_id=018&mode=search&query=금리&page=30\n"
     ]
    },
    {
     "name": "stderr",
     "output_type": "stream",
     "text": []
    },
    {
     "name": "stdout",
     "output_type": "stream",
     "text": [
      "https://finance.naver.com/news/news_read.naver?article_id=0000778285&office_id=215&mode=search&query=금리&page=37\n"
     ]
    },
    {
     "name": "stderr",
     "output_type": "stream",
     "text": [
      "100%|██████████| 46/46 [08:07<00:00, 10.60s/it]\n",
      " 23%|██▎       | 16/70 [2:20:43<7:31:09, 501.28s/it]"
     ]
    },
    {
     "name": "stdout",
     "output_type": "stream",
     "text": [
      "63\n"
     ]
    },
    {
     "name": "stderr",
     "output_type": "stream",
     "text": []
    },
    {
     "name": "stdout",
     "output_type": "stream",
     "text": [
      "https://finance.naver.com/news/news_read.naver?article_id=0004159456&office_id=015&mode=search&query=금리&page=3\n"
     ]
    },
    {
     "name": "stderr",
     "output_type": "stream",
     "text": []
    },
    {
     "name": "stdout",
     "output_type": "stream",
     "text": [
      "https://finance.naver.com/news/news_read.naver?article_id=0004371701&office_id=009&mode=search&query=금리&page=46\n"
     ]
    },
    {
     "name": "stderr",
     "output_type": "stream",
     "text": [
      "100%|██████████| 63/63 [10:58<00:00, 10.45s/it]\n",
      " 24%|██▍       | 17/70 [2:31:42<8:04:37, 548.63s/it]"
     ]
    },
    {
     "name": "stdout",
     "output_type": "stream",
     "text": [
      "72\n"
     ]
    },
    {
     "name": "stderr",
     "output_type": "stream",
     "text": []
    },
    {
     "name": "stdout",
     "output_type": "stream",
     "text": [
      "https://finance.naver.com/news/news_read.naver?article_id=0003373812&office_id=022&mode=search&query=금리&page=10\n"
     ]
    },
    {
     "name": "stderr",
     "output_type": "stream",
     "text": [
      "100%|██████████| 72/72 [12:16<00:00, 10.23s/it]\n",
      " 26%|██▌       | 18/70 [2:43:59<8:44:31, 605.22s/it]"
     ]
    },
    {
     "name": "stdout",
     "output_type": "stream",
     "text": [
      "63\n"
     ]
    },
    {
     "name": "stderr",
     "output_type": "stream",
     "text": [
      "100%|██████████| 63/63 [11:09<00:00, 10.62s/it]\n",
      " 27%|██▋       | 19/70 [2:55:09<8:50:56, 624.63s/it]"
     ]
    },
    {
     "name": "stdout",
     "output_type": "stream",
     "text": [
      "61\n"
     ]
    },
    {
     "name": "stderr",
     "output_type": "stream",
     "text": []
    },
    {
     "name": "stdout",
     "output_type": "stream",
     "text": [
      "https://finance.naver.com/news/news_read.naver?article_id=0004256989&office_id=014&mode=search&query=금리&page=1\n"
     ]
    },
    {
     "name": "stderr",
     "output_type": "stream",
     "text": []
    },
    {
     "name": "stdout",
     "output_type": "stream",
     "text": [
      "https://finance.naver.com/news/news_read.naver?article_id=0000528365&office_id=468&mode=search&query=금리&page=39\n"
     ]
    },
    {
     "name": "stderr",
     "output_type": "stream",
     "text": [
      "100%|██████████| 61/61 [11:11<00:00, 11.01s/it]\n",
      " 29%|██▊       | 20/70 [3:06:21<8:52:24, 638.89s/it]"
     ]
    },
    {
     "name": "stdout",
     "output_type": "stream",
     "text": [
      "70\n"
     ]
    },
    {
     "name": "stderr",
     "output_type": "stream",
     "text": [
      "100%|██████████| 70/70 [11:58<00:00, 10.26s/it]\n",
      " 30%|███       | 21/70 [3:18:19<9:01:20, 662.87s/it]"
     ]
    },
    {
     "name": "stdout",
     "output_type": "stream",
     "text": [
      "93\n"
     ]
    },
    {
     "name": "stderr",
     "output_type": "stream",
     "text": []
    },
    {
     "name": "stdout",
     "output_type": "stream",
     "text": [
      "https://finance.naver.com/news/news_read.naver?article_id=0003588322&office_id=011&mode=search&query=금리&page=47\n"
     ]
    },
    {
     "name": "stderr",
     "output_type": "stream",
     "text": []
    },
    {
     "name": "stdout",
     "output_type": "stream",
     "text": [
      "https://finance.naver.com/news/news_read.naver?article_id=0004426150&office_id=018&mode=search&query=금리&page=76\n"
     ]
    },
    {
     "name": "stderr",
     "output_type": "stream",
     "text": [
      "100%|██████████| 93/93 [15:40<00:00, 10.11s/it]\n",
      " 31%|███▏      | 22/70 [3:34:01<9:57:06, 746.38s/it]"
     ]
    },
    {
     "name": "stdout",
     "output_type": "stream",
     "text": [
      "74\n"
     ]
    },
    {
     "name": "stderr",
     "output_type": "stream",
     "text": []
    },
    {
     "name": "stdout",
     "output_type": "stream",
     "text": [
      "https://finance.naver.com/news/news_read.naver?article_id=0000432874&office_id=417&mode=search&query=금리&page=2\n"
     ]
    },
    {
     "name": "stderr",
     "output_type": "stream",
     "text": []
    },
    {
     "name": "stdout",
     "output_type": "stream",
     "text": [
      "https://finance.naver.com/news/news_read.naver?article_id=0000408596&office_id=469&mode=search&query=금리&page=12\n"
     ]
    },
    {
     "name": "stderr",
     "output_type": "stream",
     "text": [
      "100%|██████████| 74/74 [13:44<00:00, 11.15s/it]\n",
      " 33%|███▎      | 23/70 [3:47:46<10:03:14, 770.09s/it]"
     ]
    },
    {
     "name": "stdout",
     "output_type": "stream",
     "text": [
      "84\n"
     ]
    },
    {
     "name": "stderr",
     "output_type": "stream",
     "text": []
    },
    {
     "name": "stdout",
     "output_type": "stream",
     "text": [
      "https://finance.naver.com/news/news_read.naver?article_id=0004437969&office_id=018&mode=search&query=금리&page=3\n"
     ]
    },
    {
     "name": "stderr",
     "output_type": "stream",
     "text": []
    },
    {
     "name": "stdout",
     "output_type": "stream",
     "text": [
      "https://finance.naver.com/news/news_read.naver?article_id=0010999432&office_id=001&mode=search&query=금리&page=6\n"
     ]
    },
    {
     "name": "stderr",
     "output_type": "stream",
     "text": []
    },
    {
     "name": "stdout",
     "output_type": "stream",
     "text": [
      "https://finance.naver.com/news/news_read.naver?article_id=0000543501&office_id=468&mode=search&query=금리&page=8\n"
     ]
    },
    {
     "name": "stderr",
     "output_type": "stream",
     "text": [
      "100%|██████████| 84/84 [15:47<00:00, 11.28s/it]\n",
      " 34%|███▍      | 24/70 [4:03:36<10:31:42, 823.97s/it]"
     ]
    },
    {
     "name": "stdout",
     "output_type": "stream",
     "text": [
      "76\n"
     ]
    },
    {
     "name": "stderr",
     "output_type": "stream",
     "text": []
    },
    {
     "name": "stdout",
     "output_type": "stream",
     "text": [
      "https://finance.naver.com/news/news_read.naver?article_id=0003465862&office_id=023&mode=search&query=금리&page=27\n"
     ]
    },
    {
     "name": "stderr",
     "output_type": "stream",
     "text": []
    },
    {
     "name": "stdout",
     "output_type": "stream",
     "text": [
      "https://finance.naver.com/news/news_read.naver?article_id=0011000570&office_id=001&mode=search&query=금리&page=76\n"
     ]
    },
    {
     "name": "stderr",
     "output_type": "stream",
     "text": [
      "100%|██████████| 76/76 [13:48<00:00, 10.90s/it]\n",
      " 36%|███▌      | 25/70 [4:17:25<10:19:10, 825.57s/it]"
     ]
    },
    {
     "name": "stdout",
     "output_type": "stream",
     "text": [
      "61\n"
     ]
    },
    {
     "name": "stderr",
     "output_type": "stream",
     "text": []
    },
    {
     "name": "stdout",
     "output_type": "stream",
     "text": [
      "https://finance.naver.com/news/news_read.naver?article_id=0002100294&office_id=002&mode=search&query=금리&page=42\n"
     ]
    },
    {
     "name": "stderr",
     "output_type": "stream",
     "text": []
    },
    {
     "name": "stdout",
     "output_type": "stream",
     "text": [
      "https://finance.naver.com/news/news_read.naver?article_id=0004191286&office_id=015&mode=search&query=금리&page=54\n"
     ]
    },
    {
     "name": "stderr",
     "output_type": "stream",
     "text": []
    },
    {
     "name": "stdout",
     "output_type": "stream",
     "text": [
      "https://finance.naver.com/news/news_read.naver?article_id=0002345814&office_id=119&mode=search&query=금리&page=55\n"
     ]
    },
    {
     "name": "stderr",
     "output_type": "stream",
     "text": [
      "100%|██████████| 61/61 [10:22<00:00, 10.21s/it]\n",
      " 37%|███▋      | 26/70 [4:27:48<9:20:52, 764.82s/it] "
     ]
    },
    {
     "name": "stdout",
     "output_type": "stream",
     "text": [
      "92\n"
     ]
    },
    {
     "name": "stderr",
     "output_type": "stream",
     "text": []
    }
   ],
   "source": [
    "# NNC(NaverNewsCrawling)\n",
    "import time\n",
    "import datetime\n",
    "import requests, os\n",
    "from bs4 import BeautifulSoup\n",
    "import pandas as pd\n",
    "from tqdm import tqdm\n",
    "\n",
    "date_date = pd.date_range('2012-12-30', '2023-08-31', freq='W') #2013년부터 2023년까지 뉴스데이터 크롤링\n",
    "date_role = [date_date[:130],date_date[130:260],date_date[320:390],date_date[390:520],date_date[520:]]\n",
    "\n",
    "dir_path = './secret_news_crawling'\n",
    "os.makedirs(dir_path, exist_ok=True) # mkdir과 달리 이미 해당이름의 폴더가 있어도 에러가 나지 않는다.  \n",
    "\n",
    "for date in tqdm(date_role[2]):  #자신의 번호로 인덱싱\n",
    "    df = pd.DataFrame(columns =['신문사', '제목', '내용', '날짜'])\n",
    "    DateStart = date.strftime('%Y-%m-%d')\n",
    "    DateEnd = (date+datetime.timedelta(6)).strftime('%Y-%m-%d')\n",
    "    last_url = f\"https://finance.naver.com/news/news_search.naver?rcdate=&q=%B1%DD%B8%AE&x=20&y=14&sm=all.basic&pd=4&stDateStart={DateStart}&stDateEnd={DateEnd}&page=1\"\n",
    "    headers = {'authority' : 'finance.naver.com',\n",
    "                'User-Agent': 'Mozilla/5.0 (Windows NT 10.0; Win64; x64) AppleWebKit/537.36 (KHTML, like Gecko) Chrome/114.0.0.0 Safari/537.36'}\n",
    "    response = requests.get(last_url, headers=headers)\n",
    "    soup = BeautifulSoup(response.text) #추가적인 decoding 작업이 필요한 content 대신 text변경\n",
    "    last_page = soup.select('.pgRR a')[0]['href'].split('=')[-1] #마지막 페이지 가져오기\n",
    "    print(last_page)\n",
    "    for i in tqdm(range(1, int(last_page)+1)):   # 여기서 마지막 페이지까지 반복문\n",
    "        news_url = f\"https://finance.naver.com/news/news_search.naver?rcdate=&q=%B1%DD%B8%AE&x=20&y=14&sm=all.basic&pd=4&stDateStart={DateStart}&stDateEnd={DateEnd}&page={i}\"\n",
    "        headers = {'authority' : 'finance.naver.com',\n",
    "                    'User-Agent': 'Mozilla/5.0 (Windows NT 10.0; Win64; x64) AppleWebKit/537.36 (KHTML, like Gecko) Chrome/114.0.0.0 Safari/537.36'}\n",
    "        response = requests.get(news_url, headers=headers)\n",
    "        soup = BeautifulSoup(response.text)\n",
    "        news = soup.select('.thumb a' )\n",
    "        magazine = soup.select('.articleSummary .press') #신문사 데이터\n",
    "        newsdate = soup.select('.articleSummary .wdate') # 날짜 데이터\n",
    "\n",
    "        news_link = []\n",
    "        magazine_name = []\n",
    "        dates = []\n",
    "        for i in range(len(news)):\n",
    "            news_link.append('https://finance.naver.com' + news[i].attrs['href'].replace('amp;', ''))  #amp;제거해서 링크활성화\n",
    "            magazine_name.append(magazine[i].text)\n",
    "            dates.append(newsdate[i])\n",
    "\n",
    "        total = []\n",
    "        for index, j in enumerate(news_link):\n",
    "            news_resp = requests.get(j, headers=headers)\n",
    "            news_soup = BeautifulSoup(news_resp.text)\n",
    "            try:\n",
    "                title = news_soup.select('.article_info h3')[0].text.strip()\n",
    "                content = news_soup.select('#content')[-1].text.strip()\n",
    "            except:\n",
    "                print(j)\n",
    "                continue\n",
    "            total.append([magazine_name[index],title, content, newsdate[index].text.lstrip()[:10]])\n",
    "        \n",
    "        df_temp = pd.DataFrame(total, columns = ['신문사', '제목', '내용', '날짜'])  #모든 리스트를 데이터프레임으로 전환\n",
    "        df = pd.concat([df, df_temp], ignore_index = True)\n",
    "    df.to_csv(f'{dir_path}/{DateStart}_{DateEnd}.csv', encoding='utf-8') # 1주일 간격으로 크롤링 데이터 저장    "
   ]
  },
  {
   "cell_type": "code",
   "execution_count": 4,
   "metadata": {},
   "outputs": [
    {
     "data": {
      "text/html": [
       "<div>\n",
       "<style scoped>\n",
       "    .dataframe tbody tr th:only-of-type {\n",
       "        vertical-align: middle;\n",
       "    }\n",
       "\n",
       "    .dataframe tbody tr th {\n",
       "        vertical-align: top;\n",
       "    }\n",
       "\n",
       "    .dataframe thead th {\n",
       "        text-align: right;\n",
       "    }\n",
       "</style>\n",
       "<table border=\"1\" class=\"dataframe\">\n",
       "  <thead>\n",
       "    <tr style=\"text-align: right;\">\n",
       "      <th></th>\n",
       "      <th>Unnamed: 0</th>\n",
       "      <th>신문사</th>\n",
       "      <th>제목</th>\n",
       "      <th>내용</th>\n",
       "      <th>날짜</th>\n",
       "    </tr>\n",
       "  </thead>\n",
       "  <tbody>\n",
       "    <tr>\n",
       "      <th>0</th>\n",
       "      <td>0</td>\n",
       "      <td>세계일보</td>\n",
       "      <td>자영업자 신용대출 ‘저금리 대환’</td>\n",
       "      <td>코로나 기간내 고금리 대출자31일부터 최대 2000만원까지 신종 코로나바이러스 감염...</td>\n",
       "      <td>2023-08-27</td>\n",
       "    </tr>\n",
       "    <tr>\n",
       "      <th>1</th>\n",
       "      <td>1</td>\n",
       "      <td>경향신문</td>\n",
       "      <td>전세가구 이자비용 67% 급증… 월 20만원 첫 돌파</td>\n",
       "      <td>2023년 2분기 21만4000원 기록1년 반 만에 두 배 넘게 뛰어자가가구와 격차...</td>\n",
       "      <td>2023-08-27</td>\n",
       "    </tr>\n",
       "    <tr>\n",
       "      <th>2</th>\n",
       "      <td>2</td>\n",
       "      <td>경향신문</td>\n",
       "      <td>'잭슨홀 쇼크' 피했지만…'금리 딜레마' 여전한 한은</td>\n",
       "      <td>■우리 경제 여파는강도 낮췄지만 美 초긴축 여전유가상승 등으로 물가도 불안금리인하 ...</td>\n",
       "      <td>2023-08-27</td>\n",
       "    </tr>\n",
       "    <tr>\n",
       "      <th>3</th>\n",
       "      <td>3</td>\n",
       "      <td>세계일보</td>\n",
       "      <td>은행권 ‘부산 주 금고’ 잡기 ‘군침’… “지역 기여도 높여 평가해야”</td>\n",
       "      <td>지자체 등 70% 내년 계약 만료13곳 모두 부산은행 주 금고 거래시중은행 견제·도...</td>\n",
       "      <td>2023-08-27</td>\n",
       "    </tr>\n",
       "    <tr>\n",
       "      <th>4</th>\n",
       "      <td>4</td>\n",
       "      <td>서울경제</td>\n",
       "      <td>[단독] 슈퍼리치 놀이터라고?...10만원으로도 투자가능한 국채 나온다</td>\n",
       "      <td>서민 장기저축 지원 목적10년·20년 등 장기물로 출시만기보유시 분리과세·가산금리 ...</td>\n",
       "      <td>2023-08-27</td>\n",
       "    </tr>\n",
       "    <tr>\n",
       "      <th>...</th>\n",
       "      <td>...</td>\n",
       "      <td>...</td>\n",
       "      <td>...</td>\n",
       "      <td>...</td>\n",
       "      <td>...</td>\n",
       "    </tr>\n",
       "    <tr>\n",
       "      <th>2609</th>\n",
       "      <td>2609</td>\n",
       "      <td>연합뉴스</td>\n",
       "      <td>중국발 경기 불안에…한은, 24일 기준금리 5연속 동결할 듯</td>\n",
       "      <td>전문가 \"2%p 한미 금리차·가계대출 증가에도 경기 우려로 못 올려\" \"한은, 올해...</td>\n",
       "      <td>2023-08-20</td>\n",
       "    </tr>\n",
       "    <tr>\n",
       "      <th>2610</th>\n",
       "      <td>2610</td>\n",
       "      <td>연합뉴스</td>\n",
       "      <td>G2발 금융위기 확산…코스피 2,400까지 떨어지나</td>\n",
       "      <td>위안화·원화 약세에 외국인 매도압력…\"환율 1,300원대 후반 가능성\"\"중국 부동산...</td>\n",
       "      <td>2023-08-20</td>\n",
       "    </tr>\n",
       "    <tr>\n",
       "      <th>2611</th>\n",
       "      <td>2611</td>\n",
       "      <td>YTN</td>\n",
       "      <td>문제 생기면 '은행 탓'…정부 가계빚 정책 엇박자 비판↑</td>\n",
       "      <td>금리 인하 옥죌 때는 언제고… 가계빚 늘자 또다시 은행권에 관리 주문50년 만기 주...</td>\n",
       "      <td>2023-08-20</td>\n",
       "    </tr>\n",
       "    <tr>\n",
       "      <th>2612</th>\n",
       "      <td>2612</td>\n",
       "      <td>노컷뉴스</td>\n",
       "      <td>뉴욕증시, 엔비디아 실적 발표·연준 잭슨홀 컨퍼런스에 초점</td>\n",
       "      <td>[파이낸셜뉴스]   뉴욕증시 흐름을 좌우할 엔비디아 분기실적 발표가 23일(현지시간...</td>\n",
       "      <td>2023-08-20</td>\n",
       "    </tr>\n",
       "    <tr>\n",
       "      <th>2613</th>\n",
       "      <td>2613</td>\n",
       "      <td>파이낸셜뉴스</td>\n",
       "      <td>비트코인, 이틀 만에 10% 이상 폭락</td>\n",
       "      <td>연합뉴스  추가 통화긴축 가능성이 위험자산 투자심리를 위축스페이스X 보유 비트코인 ...</td>\n",
       "      <td>2023-08-20</td>\n",
       "    </tr>\n",
       "  </tbody>\n",
       "</table>\n",
       "<p>2614 rows × 5 columns</p>\n",
       "</div>"
      ],
      "text/plain": [
       "      Unnamed: 0      신문사                                       제목  \\\n",
       "0              0    세계일보                        자영업자 신용대출 ‘저금리 대환’   \n",
       "1              1    경향신문             전세가구 이자비용 67% 급증… 월 20만원 첫 돌파   \n",
       "2              2    경향신문             '잭슨홀 쇼크' 피했지만…'금리 딜레마' 여전한 한은   \n",
       "3              3    세계일보   은행권 ‘부산 주 금고’ 잡기 ‘군침’… “지역 기여도 높여 평가해야”   \n",
       "4              4    서울경제   [단독] 슈퍼리치 놀이터라고?...10만원으로도 투자가능한 국채 나온다   \n",
       "...          ...      ...                                      ...   \n",
       "2609        2609    연합뉴스         중국발 경기 불안에…한은, 24일 기준금리 5연속 동결할 듯   \n",
       "2610        2610    연합뉴스              G2발 금융위기 확산…코스피 2,400까지 떨어지나   \n",
       "2611        2611     YTN           문제 생기면 '은행 탓'…정부 가계빚 정책 엇박자 비판↑   \n",
       "2612        2612    노컷뉴스          뉴욕증시, 엔비디아 실적 발표·연준 잭슨홀 컨퍼런스에 초점   \n",
       "2613        2613  파이낸셜뉴스                     비트코인, 이틀 만에 10% 이상 폭락   \n",
       "\n",
       "                                                     내용          날짜  \n",
       "0     코로나 기간내 고금리 대출자31일부터 최대 2000만원까지 신종 코로나바이러스 감염...  2023-08-27  \n",
       "1     2023년 2분기 21만4000원 기록1년 반 만에 두 배 넘게 뛰어자가가구와 격차...  2023-08-27  \n",
       "2     ■우리 경제 여파는강도 낮췄지만 美 초긴축 여전유가상승 등으로 물가도 불안금리인하 ...  2023-08-27  \n",
       "3     지자체 등 70% 내년 계약 만료13곳 모두 부산은행 주 금고 거래시중은행 견제·도...  2023-08-27  \n",
       "4     서민 장기저축 지원 목적10년·20년 등 장기물로 출시만기보유시 분리과세·가산금리 ...  2023-08-27  \n",
       "...                                                 ...         ...  \n",
       "2609  전문가 \"2%p 한미 금리차·가계대출 증가에도 경기 우려로 못 올려\" \"한은, 올해...  2023-08-20  \n",
       "2610  위안화·원화 약세에 외국인 매도압력…\"환율 1,300원대 후반 가능성\"\"중국 부동산...  2023-08-20  \n",
       "2611  금리 인하 옥죌 때는 언제고… 가계빚 늘자 또다시 은행권에 관리 주문50년 만기 주...  2023-08-20  \n",
       "2612  [파이낸셜뉴스]   뉴욕증시 흐름을 좌우할 엔비디아 분기실적 발표가 23일(현지시간...  2023-08-20  \n",
       "2613  연합뉴스  추가 통화긴축 가능성이 위험자산 투자심리를 위축스페이스X 보유 비트코인 ...  2023-08-20  \n",
       "\n",
       "[2614 rows x 5 columns]"
      ]
     },
     "execution_count": 4,
     "metadata": {},
     "output_type": "execute_result"
    }
   ],
   "source": [
    "import pandas as pd\n",
    "news = pd.read_csv('2023-08-20_2023-08-27.csv')\n",
    "news"
   ]
  },
  {
   "cell_type": "code",
   "execution_count": null,
   "metadata": {},
   "outputs": [],
   "source": [
    "# BAC(Bond Analysis Crawling)\n",
    "import time\n",
    "import datetime\n",
    "import requests, os\n",
    "from bs4 import BeautifulSoup\n",
    "import pandas as pd\n",
    "from tqdm import tqdm\n",
    "\n",
    "# '채권보고서' 라는 이름으로 검색을 해서 나온 기사 가져오기\n",
    "\n",
    "\n",
    "dir_path = './secret_bond_crawling'\n",
    "os.makedirs(dir_path, exist_ok=True) # mkdir과 달리 이미 해당이름의 폴더가 있어도 에러가 나지 않는다.  \n",
    "   \n",
    "for i in tqdm(range(1, 199)):   # 여기서 마지막 페이지까지 반복문\n",
    "    df = pd.DataFrame(columns =['신문사', '제목', '내용', '날짜'])\n",
    "    bond_url = f\"https://finance.naver.com/research/debenture_list.naver?&page={i}\"\n",
    "    headers = {'authority' : 'finance.naver.com',\n",
    "                'User-Agent': 'Mozilla/5.0 (Windows NT 10.0; Win64; x64) AppleWebKit/537.36 (KHTML, like Gecko) Chrome/114.0.0.0 Safari/537.36'}\n",
    "    response = requests.get(bond_url, headers=headers)\n",
    "    soup = BeautifulSoup(response.text)\n",
    "    bond = soup.select('.box_type_m a' )\n",
    "    \n",
    "    news_link = []\n",
    "    magazine_name = []\n",
    "    dates = []\n",
    "    for i in range(len(news)):\n",
    "        news_link.append('https://finance.naver.com' + news[i].attrs['href'].replace('amp;', ''))  #amp;제거해서 링크활성화\n",
    "        magazine_name.append(magazine[i].text)\n",
    "        dates.append(newsdate[i])\n",
    "\n",
    "    total = []\n",
    "    for index, j in enumerate(news_link):\n",
    "        news_resp = requests.get(j, headers=headers)\n",
    "        news_soup = BeautifulSoup(news_resp.text)\n",
    "        try:\n",
    "            title = news_soup.select('.article_info h3')[0].text.strip()\n",
    "            content = news_soup.select('#content')[-1].text.strip()\n",
    "        except:\n",
    "            print(j)\n",
    "            continue\n",
    "        total.append([magazine_name[index],title, content, newsdate[index].text.lstrip()[:10]])\n",
    "    \n",
    "    df_temp = pd.DataFrame(total, columns = ['신문사', '제목', '내용', '날짜'])  #모든 리스트를 데이터프레임으로 전환\n",
    "    df = pd.concat([df, df_temp], ignore_index = True)\n",
    "df.to_csv(f'{dir_path}/{DateStart}_{DateEnd}.csv', encoding='utf-8') # 1주일 간격으로 크롤링 데이터 저장    \n",
    "\n",
    "\n"
   ]
  }
 ],
 "metadata": {
  "kernelspec": {
   "display_name": "Python 3.10.12 ('base')",
   "language": "python",
   "name": "python3"
  },
  "language_info": {
   "codemirror_mode": {
    "name": "ipython",
    "version": 3
   },
   "file_extension": ".py",
   "mimetype": "text/x-python",
   "name": "python",
   "nbconvert_exporter": "python",
   "pygments_lexer": "ipython3",
   "version": "3.10.12"
  },
  "orig_nbformat": 4,
  "vscode": {
   "interpreter": {
    "hash": "29865f05af80384af78d9233101596088e9d9771dcfe0a2d252f1a59aee54b06"
   }
  }
 },
 "nbformat": 4,
 "nbformat_minor": 2
}
